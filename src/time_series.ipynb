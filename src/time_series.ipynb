{
 "cells": [
  {
   "cell_type": "code",
   "execution_count": 59,
   "id": "9ab658d0",
   "metadata": {},
   "outputs": [],
   "source": [
    "import yfinance as yf\n",
    "import pandas as pd\n",
    "import numpy as np\n",
    "import matplotlib.pyplot as plt\n",
    "import statsmodels.graphics.tsaplots as sgt\n",
    "import statsmodels.tsa.stattools as sts\n",
    "from statsmodels.tsa.seasonal import seasonal_decompose\n",
    "import seaborn as sns\n",
    "from statsmodels.tsa.arima_model import ARMA\n",
    "from scipy.stats.distributions import chi2\n",
    "sns.set()\n",
    "import warnings\n",
    "warnings.filterwarnings(\"ignore\")"
   ]
  },
  {
   "cell_type": "code",
   "execution_count": 60,
   "id": "bd394c40",
   "metadata": {},
   "outputs": [
    {
     "name": "stdout",
     "output_type": "stream",
     "text": [
      "[*********************100%***********************]  2 of 2 completed\n"
     ]
    }
   ],
   "source": [
    "class DataCollection:\n",
    "    \"\"\"\n",
    "    get_data : Param:   companies: Companies shortname splitted with space.\n",
    "                        start_date: Start date for the stock data.\n",
    "                        end_date:  Close date for the stock data.\n",
    "               Returns: df: Cleaned Dataframe consisting of Close prices of the provided companies.   \n",
    "    \n",
    "    preprocess_data : Param: df: Dataframe\n",
    "                    Returns: df: Dataframe with no missing values. \n",
    "    \"\"\"\n",
    "    \n",
    "    def __init__(self):\n",
    "        pass\n",
    "      \n",
    "        \n",
    "    def get_data(self, companies, start_date, end_date):\n",
    "        \"\"\"\n",
    "        1. Scraping stock data from yahoo finance library\n",
    "        2. Removing all other columns and keeping only Closing price.\n",
    "        \"\"\"\n",
    "        df = pd.DataFrame()\n",
    "        try:\n",
    "            raw_data = yf.download(tickers=companies, start=start_date, end=end_date, \n",
    "                                        interval=\"1d\", group_by = 'ticker', auto_adjust=True, threads=True)\n",
    "            for company in companies.split():\n",
    "                df[company+\"_close\"] = raw_data[company.upper()][\"Close\"]\n",
    "            return self.preprocess_data(df)\n",
    "        except Exception as exp:\n",
    "            raise Exception\n",
    "    \n",
    "    def preprocess_data(self, df):\n",
    "        \"\"\"\n",
    "        1. Removing dates from non-business days (Saturday and Sunday).\n",
    "        2. Replacing missing values by front filling method.\n",
    "        \"\"\"\n",
    "        df = df.asfreq('b')\n",
    "        df = df.fillna(method=\"ffill\")\n",
    "        return df\n",
    "\n",
    "    \n",
    "if __name__ == \"__main__\":\n",
    "    df = DataCollection().get_data(companies=\"msft aapl\", start_date=\"2015-01-01\", end_date=\"2021-01-01\")\n",
    "    size = int(len(df)*0.8)\n",
    "    df_train, df_test = df.iloc[:size], df.iloc[size:]"
   ]
  },
  {
   "cell_type": "code",
   "execution_count": 61,
   "id": "e0ed5c38",
   "metadata": {
    "scrolled": true
   },
   "outputs": [],
   "source": [
    "class EDA:\n",
    "    def __init__(self, df_train):\n",
    "        self.df_train = df_train\n",
    "    \n",
    "    \n",
    "    def white_noise_check(self):\n",
    "        \"\"\"\n",
    "        Check for mean is 0, std is constant and no autocorelation.\n",
    "        These plot might not be good visualization approach of autocorelation. \n",
    "        We can later use ACF or PACF to check for autocorelation parameter of white noises.\n",
    "        \"\"\"\n",
    "        for df in self.df_train.columns:\n",
    "            self.df_train[df+\"_white_noise\"] = np.random.normal(loc=self.df_train[df].mean(), scale=self.df_train[df].std(), \n",
    "                                                 size=len(df_train))\n",
    "            df_train[df+\"_white_noise\"].plot(figsize=(15,5))\n",
    "            plt.title(df+\"_white_noise\", size=20)\n",
    "            plt.show()\n",
    "            df_train[df].plot(figsize=(15,5))\n",
    "            plt.show()\n",
    "    \n",
    "    \n",
    "    def stationarity_check(self):\n",
    "        \"\"\"\n",
    "        1. Stationarity test by David Dickey and Wanye Fuller known as agumented fuller\n",
    "        2. Check for mean/std to be constant and for no seasonility.\n",
    "        \"\"\"\n",
    "        for df in self.df_train.columns:\n",
    "            ad_fuller = sts.adfuller(self.df_train[df])\n",
    "            print(\"statistics for {}: {}\".format(df,ad_fuller))\n",
    "       \n",
    "    \n",
    "    def seasonality_check(self):\n",
    "        \"\"\"\n",
    "        1. Additive Navie Decompostion for checking seasonality\n",
    "        \"\"\"\n",
    "        for df in self.df_train.columns:\n",
    "            additive_decomposition = seasonal_decompose(self.df_train[df], model=\"additive\")\n",
    "            additive_decomposition.plot()\n",
    "            plt.show()\n",
    "\n",
    "            \n",
    "    def autocorelation_factor_check(self, lags):\n",
    "        \"\"\"\n",
    "        1. ACF between different lags we are interested in\n",
    "        lags=40: The last 40 period before the current one.\n",
    "        zero=False: Ignores the current period value\n",
    "        \"\"\"\n",
    "        for df in self.df_train.columns:\n",
    "            sgt.plot_acf(self.df_train[df], lags=lags, zero=False)\n",
    "            plt.title(\"ACF {}\".format(df))\n",
    "            plt.show()\n",
    "            \n",
    "            \n",
    "    def partial_autocorelation_factor_check(self, lags):\n",
    "        \"\"\"\n",
    "        1. PACF between different lags we are interested in.\n",
    "        lags=40: The last 40 period before the current one.\n",
    "        zero=False: Ignores the current period value\n",
    "        method: Various methods are available.OLS is one of those i.e. Order of Least Squares\n",
    "        \"\"\"\n",
    "        for df in self.df_train.columns:\n",
    "            sgt.plot_pacf(self.df_train[df], lags=lags, zero=False, method=('ols'))\n",
    "            plt.title(\"PACF {}\".format(df))\n",
    "            plt.show()\n",
    "            \n",
    "            \n",
    "            \n",
    "if __name__ == \"__main__\":\n",
    "    eda = EDA(df_train)\n",
    "    \"\"\"\n",
    "    Use these to check and understand the data more:\n",
    "    1. eda.white_noise_check()\n",
    "    2. eda.stationarity_check()\n",
    "    3. eda.seasonality_check()\n",
    "    4. eda.autocorelation_factor_check(lags=40)\n",
    "    5. eda.partial_autocorelation_factor_check(lags=40)\n",
    "    \"\"\"\n",
    "    "
   ]
  },
  {
   "cell_type": "code",
   "execution_count": 62,
   "id": "7ee077a5",
   "metadata": {},
   "outputs": [],
   "source": [
    "class Test:\n",
    "    def __init__(self):\n",
    "        pass\n",
    "    \n",
    "    def log_likelihood_test(self, model_list_1, model_list_2,index_of_model_list, DF):\n",
    "        l1 = model_list_1[index_of_model_list].llf\n",
    "        l2 = model_list_2[index_of_model_list].llf\n",
    "        test_statistic = (2*(l2-l1))\n",
    "        pvalue = chi2.sf(test_statistic, DF).round(3)\n",
    "        return pvalue"
   ]
  },
  {
   "cell_type": "code",
   "execution_count": 63,
   "id": "e9f23514",
   "metadata": {
    "scrolled": true
   },
   "outputs": [
    {
     "name": "stdout",
     "output_type": "stream",
     "text": [
      "0.736\n"
     ]
    }
   ],
   "source": [
    "class Model:\n",
    "    def __init__(self, df_train):\n",
    "        self.df_train = df_train\n",
    "        \n",
    "        \n",
    "    def  auto_regression_model(self, order, display_summary):\n",
    "        \"\"\"\n",
    "        order=(x,y): x= No. of past values(lags) we want to incorporate into the model\n",
    "                     y= 0 if not taking any residuals into consideration, 1 if taking them into considerations\n",
    "        \"\"\"\n",
    "        model_list = []\n",
    "        for df in self.df_train.columns:\n",
    "            ar_model = ARMA(self.df_train[df], order=order)\n",
    "            result_of_ar_model = ar_model.fit()\n",
    "            model_list.append(result_of_ar_model)\n",
    "            if display_summary:\n",
    "                print(\"\\n\\n\\n\\n\"+df)\n",
    "                print(result_of_ar_model.summary())\n",
    "        return model_list\n",
    "            \n",
    "            \n",
    "if __name__ == \"__main__\":\n",
    "    model = Model(df_train)\n",
    "    test = Test()\n",
    "    \"\"\"\n",
    "    we can try out different orders. (1, 0), (2, 0), (3, 0), (4, 0) for all the given columns.\n",
    "    Our goal here is to have a higher log likelihood ratio. And if we see the highest LLR value, take the lag before that. It will prevent overfitting.\n",
    "    By observation, Seems like for column msft_close, we can consider lag of 4.\n",
    "    While for column aapl_close,  we can consider lag of 3.\n",
    "    \"\"\" \n",
    "    model_list_1 = model.auto_regression_model(order=(3, 0), display_summary=False)\n",
    "    model_list_2 = model.auto_regression_model(order=(4, 0), display_summary=False)\n",
    "    result = test.log_likelihood_test(model_list_1, model_list_2, index_of_model_list=1, DF=1)\n",
    "    print(result)"
   ]
  },
  {
   "cell_type": "markdown",
   "id": "83b2e7b3",
   "metadata": {},
   "source": [
    "But as in as we should not rely on AR model because we have a non stationary data.\n",
    "Our best bet is transforming the dataset. An approach for solving this is using a concept known as returns."
   ]
  },
  {
   "cell_type": "code",
   "execution_count": 64,
   "id": "c5e2681c",
   "metadata": {},
   "outputs": [
    {
     "data": {
      "text/html": [
       "<div>\n",
       "<style scoped>\n",
       "    .dataframe tbody tr th:only-of-type {\n",
       "        vertical-align: middle;\n",
       "    }\n",
       "\n",
       "    .dataframe tbody tr th {\n",
       "        vertical-align: top;\n",
       "    }\n",
       "\n",
       "    .dataframe thead th {\n",
       "        text-align: right;\n",
       "    }\n",
       "</style>\n",
       "<table border=\"1\" class=\"dataframe\">\n",
       "  <thead>\n",
       "    <tr style=\"text-align: right;\">\n",
       "      <th></th>\n",
       "      <th>msft_close_returns</th>\n",
       "      <th>aapl_close_returns</th>\n",
       "    </tr>\n",
       "    <tr>\n",
       "      <th>Date</th>\n",
       "      <th></th>\n",
       "      <th></th>\n",
       "    </tr>\n",
       "  </thead>\n",
       "  <tbody>\n",
       "    <tr>\n",
       "      <th>2015-01-02</th>\n",
       "      <td>0.667399</td>\n",
       "      <td>-0.951261</td>\n",
       "    </tr>\n",
       "    <tr>\n",
       "      <th>2015-01-05</th>\n",
       "      <td>-0.919580</td>\n",
       "      <td>-2.817163</td>\n",
       "    </tr>\n",
       "    <tr>\n",
       "      <th>2015-01-06</th>\n",
       "      <td>-1.467702</td>\n",
       "      <td>0.009424</td>\n",
       "    </tr>\n",
       "    <tr>\n",
       "      <th>2015-01-07</th>\n",
       "      <td>1.270483</td>\n",
       "      <td>1.402244</td>\n",
       "    </tr>\n",
       "    <tr>\n",
       "      <th>2015-01-08</th>\n",
       "      <td>2.941820</td>\n",
       "      <td>3.842206</td>\n",
       "    </tr>\n",
       "    <tr>\n",
       "      <th>...</th>\n",
       "      <td>...</td>\n",
       "      <td>...</td>\n",
       "    </tr>\n",
       "    <tr>\n",
       "      <th>2019-10-14</th>\n",
       "      <td>-0.093079</td>\n",
       "      <td>-0.143957</td>\n",
       "    </tr>\n",
       "    <tr>\n",
       "      <th>2019-10-15</th>\n",
       "      <td>1.447535</td>\n",
       "      <td>-0.233162</td>\n",
       "    </tr>\n",
       "    <tr>\n",
       "      <th>2019-10-16</th>\n",
       "      <td>-0.819392</td>\n",
       "      <td>-0.403708</td>\n",
       "    </tr>\n",
       "    <tr>\n",
       "      <th>2019-10-17</th>\n",
       "      <td>-0.512783</td>\n",
       "      <td>0.388265</td>\n",
       "    </tr>\n",
       "    <tr>\n",
       "      <th>2019-10-18</th>\n",
       "      <td>-1.632196</td>\n",
       "      <td>0.480302</td>\n",
       "    </tr>\n",
       "  </tbody>\n",
       "</table>\n",
       "<p>1251 rows × 2 columns</p>\n",
       "</div>"
      ],
      "text/plain": [
       "            msft_close_returns  aapl_close_returns\n",
       "Date                                              \n",
       "2015-01-02            0.667399           -0.951261\n",
       "2015-01-05           -0.919580           -2.817163\n",
       "2015-01-06           -1.467702            0.009424\n",
       "2015-01-07            1.270483            1.402244\n",
       "2015-01-08            2.941820            3.842206\n",
       "...                        ...                 ...\n",
       "2019-10-14           -0.093079           -0.143957\n",
       "2019-10-15            1.447535           -0.233162\n",
       "2019-10-16           -0.819392           -0.403708\n",
       "2019-10-17           -0.512783            0.388265\n",
       "2019-10-18           -1.632196            0.480302\n",
       "\n",
       "[1251 rows x 2 columns]"
      ]
     },
     "execution_count": 64,
     "metadata": {},
     "output_type": "execute_result"
    }
   ],
   "source": [
    "df_returns = pd.DataFrame()\n",
    "for df in df_train.columns:\n",
    "    df_returns[\"{}_returns\".format(df)] = df_train[df].pct_change(1).mul(100)\n",
    "    df_returns = df_returns.iloc[1:]\n",
    "df_returns"
   ]
  },
  {
   "cell_type": "code",
   "execution_count": 65,
   "id": "68cc9664",
   "metadata": {},
   "outputs": [
    {
     "name": "stdout",
     "output_type": "stream",
     "text": [
      "statistics for msft_close_returns: (-18.14054731815924, 2.491543102927782e-30, 4, 1246, {'1%': -3.4356090875394525, '5%': -2.863862410805964, '10%': -2.568006480268158}, 4353.41328264129)\n",
      "statistics for aapl_close_returns: (-26.148764918455615, 0.0, 1, 1249, {'1%': -3.4355964295197743, '5%': -2.863856825923603, '10%': -2.5680035060041626}, 4542.01145584021)\n"
     ]
    }
   ],
   "source": [
    "eda = EDA(df_returns)\n",
    "eda.stationarity_check()"
   ]
  },
  {
   "cell_type": "code",
   "execution_count": 66,
   "id": "addf8f90",
   "metadata": {},
   "outputs": [
    {
     "data": {
      "image/png": "[encoded data removed]",
      "text/plain": [
       "<Figure size 432x288 with 1 Axes>"
      ]
     },
     "metadata": {},
     "output_type": "display_data"
    },
    {
     "data": {
      "image/png": "[encoded data removed]",
      "text/plain": [
       "<Figure size 432x288 with 1 Axes>"
      ]
     },
     "metadata": {},
     "output_type": "display_data"
    },
    {
     "data": {
      "image/png": "[encoded data removed]",
      "text/plain": [
       "<Figure size 432x288 with 1 Axes>"
      ]
     },
     "metadata": {},
     "output_type": "display_data"
    },
    {
     "data": {
      "image/png": "[encoded data removed]",
      "text/plain": [
       "<Figure size 432x288 with 1 Axes>"
      ]
     },
     "metadata": {},
     "output_type": "display_data"
    }
   ],
   "source": [
    "eda.autocorelation_factor_check(lags=40)\n",
    "eda.partial_autocorelation_factor_check(lags=40)"
   ]
  },
  {
   "cell_type": "markdown",
   "id": "1c362cf2",
   "metadata": {},
   "source": [
    "Seems like the data has become stationary. Let check it out by fitting it to AR model."
   ]
  },
  {
   "cell_type": "code",
   "execution_count": 70,
   "id": "c89dc05c",
   "metadata": {},
   "outputs": [
    {
     "name": "stdout",
     "output_type": "stream",
     "text": [
      "\n",
      "\n",
      "\n",
      "\n",
      "msft_close_returns\n",
      "                              ARMA Model Results                              \n",
      "==============================================================================\n",
      "Dep. Variable:     msft_close_returns   No. Observations:                 1251\n",
      "Model:                     ARMA(4, 0)   Log Likelihood               -2244.987\n",
      "Method:                       css-mle   S.D. of innovations              1.456\n",
      "Date:                Sun, 15 Aug 2021   AIC                           4501.974\n",
      "Time:                        23:26:43   BIC                           4532.765\n",
      "Sample:                    01-02-2015   HQIC                          4513.549\n",
      "                         - 10-18-2019                                         \n",
      "============================================================================================\n",
      "                               coef    std err          z      P>|z|      [0.025      0.975]\n",
      "--------------------------------------------------------------------------------------------\n",
      "const                        0.1060      0.036      2.935      0.003       0.035       0.177\n",
      "ar.L1.msft_close_returns    -0.0543      0.028     -1.920      0.055      -0.110       0.001\n",
      "ar.L2.msft_close_returns    -0.0870      0.028     -3.074      0.002      -0.143      -0.032\n",
      "ar.L3.msft_close_returns     0.0159      0.028      0.561      0.575      -0.040       0.071\n",
      "ar.L4.msft_close_returns    -0.0150      0.028     -0.531      0.596      -0.070       0.040\n",
      "                                    Roots                                    \n",
      "=============================================================================\n",
      "                  Real          Imaginary           Modulus         Frequency\n",
      "-----------------------------------------------------------------------------\n",
      "AR.1           -1.4106           -2.1259j            2.5513           -0.3432\n",
      "AR.2           -1.4106           +2.1259j            2.5513            0.3432\n",
      "AR.3            1.9400           -2.5437j            3.1991           -0.1463\n",
      "AR.4            1.9400           +2.5437j            3.1991            0.1463\n",
      "-----------------------------------------------------------------------------\n",
      "\n",
      "\n",
      "\n",
      "\n",
      "aapl_close_returns\n",
      "                              ARMA Model Results                              \n",
      "==============================================================================\n",
      "Dep. Variable:     aapl_close_returns   No. Observations:                 1251\n",
      "Model:                     ARMA(4, 0)   Log Likelihood               -2323.018\n",
      "Method:                       css-mle   S.D. of innovations              1.550\n",
      "Date:                Sun, 15 Aug 2021   AIC                           4658.036\n",
      "Time:                        23:26:44   BIC                           4688.826\n",
      "Sample:                    01-02-2015   HQIC                          4669.611\n",
      "                         - 10-18-2019                                         \n",
      "============================================================================================\n",
      "                               coef    std err          z      P>|z|      [0.025      0.975]\n",
      "--------------------------------------------------------------------------------------------\n",
      "const                        0.0797      0.042      1.898      0.058      -0.003       0.162\n",
      "ar.L1.aapl_close_returns     0.0123      0.028      0.437      0.662      -0.043       0.068\n",
      "ar.L2.aapl_close_returns    -0.0495      0.028     -1.749      0.080      -0.105       0.006\n",
      "ar.L3.aapl_close_returns    -0.0225      0.028     -0.796      0.426      -0.078       0.033\n",
      "ar.L4.aapl_close_returns     0.0154      0.028      0.544      0.587      -0.040       0.071\n",
      "                                    Roots                                    \n",
      "=============================================================================\n",
      "                  Real          Imaginary           Modulus         Frequency\n",
      "-----------------------------------------------------------------------------\n",
      "AR.1           -2.7896           -0.0000j            2.7896           -0.5000\n",
      "AR.2            0.3074           -2.5128j            2.5315           -0.2306\n",
      "AR.3            0.3074           +2.5128j            2.5315            0.2306\n",
      "AR.4            3.6377           -0.0000j            3.6377           -0.0000\n",
      "-----------------------------------------------------------------------------\n",
      "0.587\n"
     ]
    }
   ],
   "source": [
    "model = Model(df_returns)\n",
    "test = Test()\n",
    "model_list_1 = model.auto_regression_model(order=(3, 0), display_summary=False)\n",
    "model_list_2 = model.auto_regression_model(order=(4, 0), display_summary=True)\n",
    "result = test.log_likelihood_test(model_list_1, model_list_2, index_of_model_list=1, DF=1)\n",
    "print(result)"
   ]
  },
  {
   "cell_type": "markdown",
   "id": "b6bcef52",
   "metadata": {},
   "source": [
    "Looks like lag value for msft must be 3 and for aapl must me 4."
   ]
  },
  {
   "cell_type": "code",
   "execution_count": null,
   "id": "05618198",
   "metadata": {},
   "outputs": [],
   "source": []
  }
 ],
 "metadata": {
  "kernelspec": {
   "display_name": "Python 3",
   "language": "python",
   "name": "python3"
  },
  "language_info": {
   "codemirror_mode": {
    "name": "ipython",
    "version": 3
   },
   "file_extension": ".py",
   "mimetype": "text/x-python",
   "name": "python",
   "nbconvert_exporter": "python",
   "pygments_lexer": "ipython3",
   "version": "3.6.9"
  }
 },
 "nbformat": 4,
 "nbformat_minor": 5
}
